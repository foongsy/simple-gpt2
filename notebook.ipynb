{
 "cells": [
  {
   "cell_type": "code",
   "execution_count": 2,
   "metadata": {},
   "outputs": [],
   "source": [
    "from pathlib import Path\n",
    "from hanziconv import HanziConv"
   ]
  },
  {
   "cell_type": "code",
   "execution_count": 28,
   "metadata": {},
   "outputs": [
    {
     "name": "stdout",
     "output_type": "stream",
     "text": [
      "kamyung/侠客行.txt\n",
      "kamyung/射雕英雄传.txt\n",
      "kamyung/鹿鼎记.txt\n",
      "kamyung/雪山飞狐.txt\n",
      "kamyung/连城诀.txt\n",
      "kamyung/飞狐外传.txt\n",
      "kamyung/神雕侠侣.txt\n",
      "kamyung/天龙八部.txt\n",
      "kamyung/碧血剑.txt\n",
      "kamyung/白马啸西风.txt\n",
      "kamyung/笑傲江湖.txt\n",
      "kamyung/倚天屠龙记.txt\n",
      "kamyung/书剑恩仇录.txt\n"
     ]
    }
   ],
   "source": [
    "# Preprocess kamyung folder\n",
    "p = Path(\"./kamyung\")\n",
    "files = p.iterdir()\n",
    "content : str = ''\n",
    "for fn in files:\n",
    "    print(fn)\n",
    "    with open(fn, 'r', encoding='gbk', errors='ignore') as fp:\n",
    "        content += HanziConv.toTraditional(\"\\n\".join(fp.readlines()[5:]))\n",
    "with open(\"./train.txt\", \"w\", encoding='utf-8') as fp:\n",
    "    fp.write(content)\n"
   ]
  },
  {
   "cell_type": "code",
   "execution_count": null,
   "metadata": {},
   "outputs": [],
   "source": []
  }
 ],
 "metadata": {
  "kernelspec": {
   "display_name": "gpt2",
   "language": "python",
   "name": "python3"
  },
  "language_info": {
   "codemirror_mode": {
    "name": "ipython",
    "version": 3
   },
   "file_extension": ".py",
   "mimetype": "text/x-python",
   "name": "python",
   "nbconvert_exporter": "python",
   "pygments_lexer": "ipython3",
   "version": "3.11.9"
  }
 },
 "nbformat": 4,
 "nbformat_minor": 2
}
