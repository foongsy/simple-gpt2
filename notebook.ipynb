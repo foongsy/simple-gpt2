{
 "cells": [
  {
   "cell_type": "code",
   "execution_count": 3,
   "metadata": {},
   "outputs": [],
   "source": [
    "from pathlib import Path\n",
    "from hanziconv import HanziConv\n",
    "import re"
   ]
  },
  {
   "cell_type": "code",
   "execution_count": 35,
   "metadata": {},
   "outputs": [
    {
     "name": "stdout",
     "output_type": "stream",
     "text": [
      "train/侠客行.txt\n",
      "train/射雕英雄传.txt\n",
      "train/鹿鼎记.txt\n",
      "train/雪山飞狐.txt\n",
      "train/连城诀.txt\n",
      "train/飞狐外传.txt\n",
      "train/天龙八部.txt\n",
      "train/碧血剑.txt\n",
      "train/白马啸西风.txt\n",
      "train/笑傲江湖.txt\n",
      "train/倚天屠龙记.txt\n",
      "train/书剑恩仇录.txt\n",
      "test/神雕侠侣.txt\n"
     ]
    }
   ],
   "source": [
    "# Preprocess train and test folder\n",
    "p = Path(\"./train\")\n",
    "files = p.iterdir()\n",
    "content : str = ''\n",
    "for fn in files:\n",
    "    print(fn)\n",
    "    with open(fn, 'r', encoding='gbk', errors='ignore') as fp:\n",
    "        content += HanziConv.toTraditional(\"\".join(fp.readlines()[5:]))\n",
    "with open(\"./train.txt\", \"w\", encoding='utf-8') as fp:\n",
    "    content = re.sub(r\"^[\\n\\s]+\",\"\",content, flags=re.MULTILINE)\n",
    "    fp.write(content)\n",
    "\n",
    "p = Path(\"./test\")\n",
    "files = p.iterdir()\n",
    "content : str = ''\n",
    "for fn in files:\n",
    "    print(fn)\n",
    "    with open(fn, 'r', encoding='gbk', errors='ignore') as fp:\n",
    "        content += HanziConv.toTraditional(\"\".join(fp.readlines()[5:]))\n",
    "with open(\"./test.txt\", \"w\", encoding='utf-8') as fp:\n",
    "    content = re.sub(r\"^[\\n\\s]+\",\"\",content, flags=re.MULTILINE)\n",
    "    fp.write(content)\n"
   ]
  },
  {
   "cell_type": "code",
   "execution_count": null,
   "metadata": {},
   "outputs": [],
   "source": []
  },
  {
   "cell_type": "code",
   "execution_count": null,
   "metadata": {},
   "outputs": [],
   "source": [
    "import argparse\n",
    "import logging\n",
    "\n",
    "from simpletransformers.language_modeling import LanguageModelingModel\n",
    "\n",
    "logging.basicConfig(level=logging.INFO)\n",
    "transformers_logger = logging.getLogger(\"transformers\")\n",
    "transformers_logger.setLevel(logging.WARNING)\n",
    "\n",
    "\n",
    "train_args = {\n",
    "    \"reprocess_input_data\": True,\n",
    "    \"overwrite_output_dir\": True,\n",
    "    \"num_train_epochs\": 20,\n",
    "    \"save_eval_checkpoints\": True,\n",
    "    \"block_size\": 509,\n",
    "    \"max_seq_length\": 509,\n",
    "    # \"save_model_every_epoch\": False,\n",
    "    \"learning_rate\": 1e-4,\n",
    "    \"train_batch_size\": 16,\n",
    "    \"gradient_accumulation_steps\": 4,\n",
    "    \"mlm\": False,\n",
    "    \"dataset_type\": \"simple\",\n",
    "    \"logging_steps\": 100,\n",
    "    \"evaluate_during_training\": True,\n",
    "    \"evaluate_during_training_steps\": 3000,\n",
    "    \"evaluate_during_training_verbose\": True,\n",
    "    \"use_cached_eval_features\": True,\n",
    "    \"sliding_window\": True,\n",
    "    \"use_multiprocessing\": False,\n",
    "    \"vocab_size\": 10000,\n",
    "    \"output_dir\": f\"outputs/from_scratch_\",\n",
    "    \"best_model_dir\": f\"outputs/from_scratch/best_model\",\n",
    "    \"fp16\": False,\n",
    "    \"local_rank\": -1,\n",
    "    \"handle_chinese_chars\": True,\n",
    "}\n",
    "\n",
    "parser = argparse.ArgumentParser()\n",
    "parser.add_argument(\n",
    "    \"--local_rank\",\n",
    "    type=int,\n",
    "    default=-1,\n",
    "    help=\"Local rank. Necessary for using the torch.distributed.launch utility.\",\n",
    ")\n",
    "args = parser.parse_args()\n",
    "\n",
    "train_args[\"local_rank\"] = args.local_rank\n",
    "\n",
    "train_file = f\"train.txt\"\n",
    "test_file = f\"test.txt\"\n",
    "\n",
    "model = LanguageModelingModel(\n",
    "    \"gpt2\",\n",
    "    None,\n",
    "    args=train_args,\n",
    "    train_files=train_file,\n",
    ")\n",
    "\n",
    "model.train_model(\n",
    "    train_file,\n",
    "    eval_file=test_file,\n",
    ")\n",
    "\n",
    "model.eval_model(test_file)"
   ]
  }
 ],
 "metadata": {
  "kernelspec": {
   "display_name": "gpt2",
   "language": "python",
   "name": "python3"
  },
  "language_info": {
   "codemirror_mode": {
    "name": "ipython",
    "version": 3
   },
   "file_extension": ".py",
   "mimetype": "text/x-python",
   "name": "python",
   "nbconvert_exporter": "python",
   "pygments_lexer": "ipython3",
   "version": "3.11.9"
  }
 },
 "nbformat": 4,
 "nbformat_minor": 2
}
